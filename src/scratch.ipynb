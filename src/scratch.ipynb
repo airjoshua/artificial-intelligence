{
 "cells": [
  {
   "metadata": {
    "ExecuteTime": {
     "end_time": "2025-10-21T17:36:35.946703Z",
     "start_time": "2025-10-21T17:36:35.939046Z"
    }
   },
   "cell_type": "code",
   "source": [
    "from dotenv import load_dotenv\n",
    "import random\n",
    "import wandb\n",
    "from wandb.sklearn import plot_precision_recall, plot_feature_importances\n",
    "from wandb.sklearn import plot_class_proportions, plot_learning_curve, plot_roc\n",
    "\n",
    "import numpy as np\n",
    "from sklearn import datasets\n",
    "from sklearn.ensemble import RandomForestClassifier\n",
    "from sklearn.model_selection import train_test_split\n",
    "load_dotenv()"
   ],
   "id": "f01853516fcae97d",
   "outputs": [
    {
     "data": {
      "text/plain": [
       "True"
      ]
     },
     "execution_count": 1,
     "metadata": {},
     "output_type": "execute_result"
    }
   ],
   "execution_count": 1
  },
  {
   "metadata": {},
   "cell_type": "code",
   "outputs": [],
   "execution_count": null,
   "source": [
    "    def train_pytorch(config=None):\n",
    "    # Initialize a new wandb run\n",
    "    with wandb.init(config=config) as run:\n",
    "        # If called by wandb.agent, as below,\n",
    "        # this config will be set by Sweep Controller\n",
    "        config = run.config\n",
    "\n",
    "        loader = build_dataset(config.batch_size)\n",
    "        network = build_network(config.fc_layer_size, config.dropout)\n",
    "        optimizer = build_optimizer(network, config.optimizer, config.learning_rate)\n",
    "\n",
    "        for epoch in range(config.epochs):\n",
    "            avg_loss = train_epoch(network, loader, optimizer)\n",
    "            run.log({\"loss\": avg_loss, \"epoch\": epoch})\n",
    "\n",
    "\n",
    "def build_dataset(batch_size):\n",
    "    transform = transforms.Compose(\n",
    "        [transforms.ToTensor(), transforms.Normalize((0.1307,), (0.3081,))]\n",
    "    )\n",
    "    # download MNIST training dataset\n",
    "    dataset = datasets.MNIST(\".\", train=True, download=True, transform=transform)\n",
    "    sub_dataset = torch.utils.data.Subset(\n",
    "        dataset, indices=range(0, len(dataset), 5)\n",
    "    )\n",
    "    loader = torch.utils.data.DataLoader(sub_dataset, batch_size=batch_size)\n",
    "\n",
    "    return loader\n",
    "\n",
    "\n",
    "def build_network(fc_layer_size, dropout):\n",
    "    network = nn.Sequential(  # fully connected, single hidden layer\n",
    "        nn.Flatten(),\n",
    "        nn.Linear(784, fc_layer_size),\n",
    "        nn.ReLU(),\n",
    "        nn.Dropout(dropout),\n",
    "        nn.Linear(fc_layer_size, 10),\n",
    "        nn.LogSoftmax(dim=1),\n",
    "    )\n",
    "\n",
    "    return network.to(device)\n",
    "\n",
    "\n",
    "def build_optimizer(network, optimizer, learning_rate):\n",
    "    if optimizer == \"sgd\":\n",
    "        optimizer = optim.SGD(network.parameters(), lr=learning_rate, momentum=0.9)\n",
    "    elif optimizer == \"adam\":\n",
    "        optimizer = optim.Adam(network.parameters(), lr=learning_rate)\n",
    "    return optimizer\n",
    "\n",
    "\n",
    "def train_epoch(network, loader, optimizer):\n",
    "    cumu_loss = 0\n",
    "\n",
    "    with wandb.init() as run:\n",
    "        for _, (data, target) in enumerate(loader):\n",
    "            data, target = data.to(device), target.to(device)\n",
    "            optimizer.zero_grad()\n",
    "\n",
    "            # ➡ Forward pass\n",
    "            loss = F.nll_loss(network(data), target)\n",
    "            cumu_loss += loss.item()\n",
    "\n",
    "            # ⬅ Backward pass + weight update\n",
    "            loss.backward()\n",
    "            optimizer.step()\n",
    "            batch_loss = loss.item()\n",
    "            run.log({\"batch loss\": batch_loss})\n",
    "\n",
    "    return cumu_loss / len(loader)"
   ],
   "id": "727ef931c88f9bb9"
  },
  {
   "metadata": {
    "ExecuteTime": {
     "end_time": "2025-10-21T17:41:06.006501Z",
     "start_time": "2025-10-21T17:41:04.816547Z"
    }
   },
   "cell_type": "code",
   "source": [
    "import random\n",
    "\n",
    "import wandb\n",
    "\n",
    "def train():\n",
    "    config = {\n",
    "        \"learning_rate\": 0.02,\n",
    "        \"architecture\": \"CNN\",\n",
    "        \"dataset\": \"CIFAR-100\",\n",
    "        \"epochs\": 10,\n",
    "    }\n",
    "    run = wandb.init(\n",
    "        project=\"ml-training\",\n",
    "        config=config,\n",
    "    )\n",
    "\n",
    "    # Simulate training.\n",
    "    epochs = 10\n",
    "    offset = random.random() / 5\n",
    "    for epoch in range(2, epochs):\n",
    "        acc = 1 - 2 ** -epoch - random.random() / epoch - offset\n",
    "        loss = 2 ** -epoch + random.random() / epoch + offset\n",
    "\n",
    "        metrics = {\"acc\": acc, \"loss\": loss}\n",
    "        run.log(metrics)\n",
    "        run.finish()"
   ],
   "id": "f2dedf354d24b50d",
   "outputs": [
    {
     "data": {
      "text/plain": [
       "<IPython.core.display.HTML object>"
      ],
      "text/html": []
     },
     "metadata": {},
     "output_type": "display_data",
     "jetTransient": {
      "display_id": "453d747992541446a6bbc4851389b208"
     }
    },
    {
     "data": {
      "text/plain": [
       "<IPython.core.display.HTML object>"
      ],
      "text/html": [
       "Tracking run with wandb version 0.22.2"
      ]
     },
     "metadata": {},
     "output_type": "display_data",
     "jetTransient": {
      "display_id": null
     }
    },
    {
     "data": {
      "text/plain": [
       "<IPython.core.display.HTML object>"
      ],
      "text/html": [
       "Run data is saved locally in <code>/Users/airjoshua/artificial-intelligence/wandb/run-20251021_104104-d7vkaxjr</code>"
      ]
     },
     "metadata": {},
     "output_type": "display_data",
     "jetTransient": {
      "display_id": null
     }
    },
    {
     "data": {
      "text/plain": [
       "<IPython.core.display.HTML object>"
      ],
      "text/html": [
       "Syncing run <strong><a href='https://wandb.ai/airjoshua/ml-training/runs/d7vkaxjr' target=\"_blank\">My first run</a></strong> to <a href='https://wandb.ai/airjoshua/ml-training' target=\"_blank\">Weights & Biases</a> (<a href='https://wandb.me/developer-guide' target=\"_blank\">docs</a>)<br>"
      ]
     },
     "metadata": {},
     "output_type": "display_data",
     "jetTransient": {
      "display_id": null
     }
    },
    {
     "data": {
      "text/plain": [
       "<IPython.core.display.HTML object>"
      ],
      "text/html": [
       " View project at <a href='https://wandb.ai/airjoshua/ml-training' target=\"_blank\">https://wandb.ai/airjoshua/ml-training</a>"
      ]
     },
     "metadata": {},
     "output_type": "display_data",
     "jetTransient": {
      "display_id": null
     }
    },
    {
     "data": {
      "text/plain": [
       "<IPython.core.display.HTML object>"
      ],
      "text/html": [
       " View run at <a href='https://wandb.ai/airjoshua/ml-training/runs/d7vkaxjr' target=\"_blank\">https://wandb.ai/airjoshua/ml-training/runs/d7vkaxjr</a>"
      ]
     },
     "metadata": {},
     "output_type": "display_data",
     "jetTransient": {
      "display_id": null
     }
    },
    {
     "data": {
      "text/plain": [
       "<IPython.core.display.HTML object>"
      ],
      "text/html": []
     },
     "metadata": {},
     "output_type": "display_data",
     "jetTransient": {
      "display_id": "a0545a50f6cebf1be76b749412dde5de"
     }
    },
    {
     "data": {
      "text/plain": [
       "<IPython.core.display.HTML object>"
      ],
      "text/html": [
       "<br>    <style><br>        .wandb-row {<br>            display: flex;<br>            flex-direction: row;<br>            flex-wrap: wrap;<br>            justify-content: flex-start;<br>            width: 100%;<br>        }<br>        .wandb-col {<br>            display: flex;<br>            flex-direction: column;<br>            flex-basis: 100%;<br>            flex: 1;<br>            padding: 10px;<br>        }<br>    </style><br><div class=\"wandb-row\"><div class=\"wandb-col\"><h3>Run history:</h3><br/><table class=\"wandb\"><tr><td>acc</td><td>▁▄▅▆▇▇██</td></tr><tr><td>loss</td><td>█▄▂▃▁▂▁▁</td></tr></table><br/></div><div class=\"wandb-col\"><h3>Run summary:</h3><br/><table class=\"wandb\"><tr><td>acc</td><td>0.91899</td></tr><tr><td>loss</td><td>0.06936</td></tr></table><br/></div></div>"
      ]
     },
     "metadata": {},
     "output_type": "display_data",
     "jetTransient": {
      "display_id": null
     }
    },
    {
     "data": {
      "text/plain": [
       "<IPython.core.display.HTML object>"
      ],
      "text/html": [
       " View run <strong style=\"color:#cdcd00\">My first run</strong> at: <a href='https://wandb.ai/airjoshua/ml-training/runs/d7vkaxjr' target=\"_blank\">https://wandb.ai/airjoshua/ml-training/runs/d7vkaxjr</a><br> View project at: <a href='https://wandb.ai/airjoshua/ml-training' target=\"_blank\">https://wandb.ai/airjoshua/ml-training</a><br>Synced 5 W&B file(s), 0 media file(s), 0 artifact file(s) and 0 other file(s)"
      ]
     },
     "metadata": {},
     "output_type": "display_data",
     "jetTransient": {
      "display_id": null
     }
    },
    {
     "data": {
      "text/plain": [
       "<IPython.core.display.HTML object>"
      ],
      "text/html": [
       "Find logs at: <code>./wandb/run-20251021_104104-d7vkaxjr/logs</code>"
      ]
     },
     "metadata": {},
     "output_type": "display_data",
     "jetTransient": {
      "display_id": null
     }
    }
   ],
   "execution_count": 4
  },
  {
   "metadata": {
    "ExecuteTime": {
     "end_time": "2025-10-28T01:12:44.006300Z",
     "start_time": "2025-10-28T01:12:43.948575Z"
    }
   },
   "cell_type": "code",
   "source": [
    "plugins = [\n",
    "        \"Key Promoter X\",\n",
    "        \"net.seesharpsoft.intellij.plugins.csv\",\n",
    "        \"org.jetbrains.junie\",\n",
    "        \"fleet.ai\",\n",
    "        \"org.jetbrains.aidebugger\",\n",
    "        \"com.intellij.ml.llm\",\n",
    "        \"com.codeium.rd\",\n",
    "        \"sourcery.pycharm-plugin\",\n",
    "        \"com.koxudaxi.pydantic\",\n",
    "        \"mobi.hsz.idea.gitignore\",\n",
    "        \"com.intellij.mcpServer\",\n",
    "    \"he\"\n",
    "      ]\n",
    "sorted(plugins)"
   ],
   "id": "a02d46b6fc705481",
   "outputs": [
    {
     "data": {
      "text/plain": [
       "['Key Promoter X',\n",
       " 'com.codeium.rd',\n",
       " 'com.intellij.mcpServer',\n",
       " 'com.intellij.ml.llm',\n",
       " 'com.koxudaxi.pydantic',\n",
       " 'fleet.ai',\n",
       " 'mobi.hsz.idea.gitignore',\n",
       " 'net.seesharpsoft.intellij.plugins.csv',\n",
       " 'org.jetbrains.aidebugger',\n",
       " 'org.jetbrains.junie',\n",
       " 'sourcery.pycharm-plugin']"
      ]
     },
     "execution_count": 2,
     "metadata": {},
     "output_type": "execute_result"
    }
   ],
   "execution_count": 2
  },
  {
   "cell_type": "code",
   "id": "initial_id",
   "metadata": {
    "collapsed": true,
    "ExecuteTime": {
     "end_time": "2025-10-21T17:48:49.109933Z",
     "start_time": "2025-10-21T17:48:42.543127Z"
    }
   },
   "source": [
    "# This script needs these libraries to be installed:\n",
    "#   numpy, sklearn\n",
    "\n",
    "import wandb\n",
    "from wandb.sklearn import plot_precision_recall, plot_feature_importances\n",
    "from wandb.sklearn import plot_class_proportions, plot_learning_curve, plot_roc\n",
    "\n",
    "import numpy as np\n",
    "from sklearn import datasets\n",
    "from sklearn.ensemble import RandomForestClassifier\n",
    "from sklearn.model_selection import train_test_split\n",
    "\n",
    "\n",
    "# load and process data\n",
    "def sklearn_train():\n",
    "    wbcd = datasets.load_breast_cancer()\n",
    "    feature_names = wbcd.feature_names\n",
    "    labels = wbcd.target_names\n",
    "\n",
    "    test_size = 0.2\n",
    "    X_train, X_test, y_train, y_test = train_test_split(wbcd.data, wbcd.target, test_size=test_size)\n",
    "\n",
    "    # train model\n",
    "    model = RandomForestClassifier()\n",
    "    model.fit(X_train, y_train)\n",
    "    model_params = model.get_params()\n",
    "\n",
    "    # get predictions\n",
    "    y_pred = model.predict(X_test)\n",
    "    y_probas = model.predict_proba(X_test)\n",
    "    importances = model.feature_importances_\n",
    "    indices = np.argsort(importances)[::-1]\n",
    "\n",
    "    # start a new wandb run and add your model hyperparameters\n",
    "    wandb.init(project='ml-training', config=model_params)\n",
    "\n",
    "    # Add additional configs to wandb\n",
    "    update_configs = {\"test_size\": test_size,\n",
    "                      \"train_len\": len(X_train),\n",
    "                      \"test_len\": len(X_test), }\n",
    "    wandb.config.update({\"test_size\": test_size,\n",
    "                         \"train_len\": len(X_train),\n",
    "                         \"test_len\": len(X_test)})\n",
    "\n",
    "    # log additional visualisations to wandb\n",
    "    plot_class_proportions(y_train, y_test, labels)\n",
    "    plot_learning_curve(model, X_train, y_train)\n",
    "    plot_roc(y_test, y_probas, labels)\n",
    "    plot_precision_recall(y_test, y_probas, labels)\n",
    "    plot_feature_importances(model)\n",
    "\n",
    "    # [optional] finish the wandb run, necessary in notebooks\n",
    "    wandb.finish()\n",
    "\n",
    "\n",
    "sklearn_train()"
   ],
   "outputs": [
    {
     "data": {
      "text/plain": [
       "<IPython.core.display.HTML object>"
      ],
      "text/html": []
     },
     "metadata": {},
     "output_type": "display_data",
     "jetTransient": {
      "display_id": "6be11881bc29cdd06ee8224f482b8282"
     }
    },
    {
     "data": {
      "text/plain": [
       "<IPython.core.display.HTML object>"
      ],
      "text/html": [
       "Tracking run with wandb version 0.22.2"
      ]
     },
     "metadata": {},
     "output_type": "display_data",
     "jetTransient": {
      "display_id": null
     }
    },
    {
     "data": {
      "text/plain": [
       "<IPython.core.display.HTML object>"
      ],
      "text/html": [
       "Run data is saved locally in <code>/Users/airjoshua/artificial-intelligence/wandb/run-20251021_104842-pr2sceuq</code>"
      ]
     },
     "metadata": {},
     "output_type": "display_data",
     "jetTransient": {
      "display_id": null
     }
    },
    {
     "data": {
      "text/plain": [
       "<IPython.core.display.HTML object>"
      ],
      "text/html": [
       "Syncing run <strong><a href='https://wandb.ai/airjoshua/ml-training/runs/pr2sceuq' target=\"_blank\">My first run</a></strong> to <a href='https://wandb.ai/airjoshua/ml-training' target=\"_blank\">Weights & Biases</a> (<a href='https://wandb.me/developer-guide' target=\"_blank\">docs</a>)<br>"
      ]
     },
     "metadata": {},
     "output_type": "display_data",
     "jetTransient": {
      "display_id": null
     }
    },
    {
     "data": {
      "text/plain": [
       "<IPython.core.display.HTML object>"
      ],
      "text/html": [
       " View project at <a href='https://wandb.ai/airjoshua/ml-training' target=\"_blank\">https://wandb.ai/airjoshua/ml-training</a>"
      ]
     },
     "metadata": {},
     "output_type": "display_data",
     "jetTransient": {
      "display_id": null
     }
    },
    {
     "data": {
      "text/plain": [
       "<IPython.core.display.HTML object>"
      ],
      "text/html": [
       " View run at <a href='https://wandb.ai/airjoshua/ml-training/runs/pr2sceuq' target=\"_blank\">https://wandb.ai/airjoshua/ml-training/runs/pr2sceuq</a>"
      ]
     },
     "metadata": {},
     "output_type": "display_data",
     "jetTransient": {
      "display_id": null
     }
    },
    {
     "data": {
      "text/plain": [
       "<IPython.core.display.HTML object>"
      ],
      "text/html": []
     },
     "metadata": {},
     "output_type": "display_data",
     "jetTransient": {
      "display_id": "9cfbb088c55b0d2469fdbacd60bbfaef"
     }
    },
    {
     "data": {
      "text/plain": [
       "<IPython.core.display.HTML object>"
      ],
      "text/html": [
       " View run <strong style=\"color:#cdcd00\">My first run</strong> at: <a href='https://wandb.ai/airjoshua/ml-training/runs/pr2sceuq' target=\"_blank\">https://wandb.ai/airjoshua/ml-training/runs/pr2sceuq</a><br> View project at: <a href='https://wandb.ai/airjoshua/ml-training' target=\"_blank\">https://wandb.ai/airjoshua/ml-training</a><br>Synced 5 W&B file(s), 5 media file(s), 10 artifact file(s) and 0 other file(s)"
      ]
     },
     "metadata": {},
     "output_type": "display_data",
     "jetTransient": {
      "display_id": null
     }
    },
    {
     "data": {
      "text/plain": [
       "<IPython.core.display.HTML object>"
      ],
      "text/html": [
       "Find logs at: <code>./wandb/run-20251021_104842-pr2sceuq/logs</code>"
      ]
     },
     "metadata": {},
     "output_type": "display_data",
     "jetTransient": {
      "display_id": null
     }
    }
   ],
   "execution_count": 6
  },
  {
   "metadata": {
    "ExecuteTime": {
     "end_time": "2025-10-21T16:42:00.538428Z",
     "start_time": "2025-10-21T16:42:00.511629Z"
    }
   },
   "cell_type": "code",
   "source": "# This is secret and shouldn't be checked into version control",
   "id": "f30c42369e93bb8a",
   "outputs": [
    {
     "ename": "KeyError",
     "evalue": "'WANDB_MODE'",
     "output_type": "error",
     "traceback": [
      "\u001B[31m---------------------------------------------------------------------------\u001B[39m",
      "\u001B[31mKeyError\u001B[39m                                  Traceback (most recent call last)",
      "\u001B[36mCell\u001B[39m\u001B[36m \u001B[39m\u001B[32mIn[5]\u001B[39m\u001B[32m, line 2\u001B[39m\n\u001B[32m      1\u001B[39m \u001B[38;5;66;03m# This is secret and shouldn't be checked into version control\u001B[39;00m\n\u001B[32m----> \u001B[39m\u001B[32m2\u001B[39m \u001B[43mos\u001B[49m\u001B[43m.\u001B[49m\u001B[43menviron\u001B[49m\u001B[43m[\u001B[49m\u001B[33;43m\"\u001B[39;49m\u001B[33;43mWANDB_MODE\u001B[39;49m\u001B[33;43m\"\u001B[39;49m\u001B[43m]\u001B[49m\n",
      "\u001B[36mFile \u001B[39m\u001B[32m<frozen os>:717\u001B[39m, in \u001B[36m__getitem__\u001B[39m\u001B[34m(self, key)\u001B[39m\n",
      "\u001B[31mKeyError\u001B[39m: 'WANDB_MODE'"
     ]
    }
   ],
   "execution_count": 5
  },
  {
   "metadata": {},
   "cell_type": "code",
   "outputs": [],
   "execution_count": null,
   "source": [
    "# Start a run.\n",
    "#\n",
    "# When this block exits, it waits for logged data to finish uploading.\n",
    "# If an exception is raised, the run is marked failed.\n",
    "with wandb.init(entity=\"\", project=\"my-project-name\") as run:\n",
    "  # Save mode inputs and hyperparameters.\n",
    "  run.config.learning_rate = 0.01\n",
    "\n",
    "  # Run your experiment code.\n",
    "  for epoch in range(num_epochs):\n",
    "    # Do some training...\n",
    "\n",
    "    # Log metrics over time to visualize model performance.\n",
    "    run.log({\"loss\": loss})\n",
    "\n",
    "  # Upload model outputs as artifacts.\n",
    "  run.log_artifact(model)\n"
   ],
   "id": "c57a5b97b663a04b"
  },
  {
   "metadata": {},
   "cell_type": "code",
   "outputs": [],
   "execution_count": null,
   "source": "",
   "id": "3c8e4e6c3ac700c3"
  }
 ],
 "metadata": {
  "kernelspec": {
   "display_name": "Python 3",
   "language": "python",
   "name": "python3"
  },
  "language_info": {
   "codemirror_mode": {
    "name": "ipython",
    "version": 2
   },
   "file_extension": ".py",
   "mimetype": "text/x-python",
   "name": "python",
   "nbconvert_exporter": "python",
   "pygments_lexer": "ipython2",
   "version": "2.7.6"
  }
 },
 "nbformat": 4,
 "nbformat_minor": 5
}
